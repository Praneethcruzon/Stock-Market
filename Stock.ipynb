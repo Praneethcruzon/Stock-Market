{
  "nbformat": 4,
  "nbformat_minor": 0,
  "metadata": {
    "colab": {
      "name": "Stock.ipynb",
      "provenance": [],
      "collapsed_sections": [],
      "toc_visible": true,
      "include_colab_link": true
    },
    "kernelspec": {
      "name": "python3",
      "display_name": "Python 3"
    }
  },
  "cells": [
    {
      "cell_type": "markdown",
      "metadata": {
        "id": "view-in-github",
        "colab_type": "text"
      },
      "source": [
        "<a href=\"https://colab.research.google.com/github/Praneethcruzon/Stock-Market/blob/master/Stock.ipynb\" target=\"_parent\"><img src=\"https://colab.research.google.com/assets/colab-badge.svg\" alt=\"Open In Colab\"/></a>"
      ]
    },
    {
      "cell_type": "code",
      "metadata": {
        "id": "G4ZmKBKUUYZ3",
        "colab_type": "code",
        "outputId": "badd690d-7207-461f-fe99-8351ab923aa6",
        "colab": {
          "base_uri": "https://localhost:8080/",
          "height": 195
        }
      },
      "source": [
        "from keras.models import Sequential\n",
        "import pandas as pd\n",
        "from tqdm import tqdm_notebook as tqdm_notebook\n",
        "import numpy as np\n",
        "df_ge = pd.read_csv(\"BMW.DE.csv\")\n",
        "df_ge.tail()"
      ],
      "execution_count": 166,
      "outputs": [
        {
          "output_type": "execute_result",
          "data": {
            "text/html": [
              "<div>\n",
              "<style scoped>\n",
              "    .dataframe tbody tr th:only-of-type {\n",
              "        vertical-align: middle;\n",
              "    }\n",
              "\n",
              "    .dataframe tbody tr th {\n",
              "        vertical-align: top;\n",
              "    }\n",
              "\n",
              "    .dataframe thead th {\n",
              "        text-align: right;\n",
              "    }\n",
              "</style>\n",
              "<table border=\"1\" class=\"dataframe\">\n",
              "  <thead>\n",
              "    <tr style=\"text-align: right;\">\n",
              "      <th></th>\n",
              "      <th>Date</th>\n",
              "      <th>Open</th>\n",
              "      <th>High</th>\n",
              "      <th>Low</th>\n",
              "      <th>Close</th>\n",
              "      <th>Adj Close</th>\n",
              "      <th>Volume</th>\n",
              "    </tr>\n",
              "  </thead>\n",
              "  <tbody>\n",
              "    <tr>\n",
              "      <th>5639</th>\n",
              "      <td>2019-08-14</td>\n",
              "      <td>61.099998</td>\n",
              "      <td>61.099998</td>\n",
              "      <td>59.299999</td>\n",
              "      <td>59.599998</td>\n",
              "      <td>59.599998</td>\n",
              "      <td>1972805.0</td>\n",
              "    </tr>\n",
              "    <tr>\n",
              "      <th>5640</th>\n",
              "      <td>2019-08-15</td>\n",
              "      <td>59.759998</td>\n",
              "      <td>59.799999</td>\n",
              "      <td>58.040001</td>\n",
              "      <td>58.820000</td>\n",
              "      <td>58.820000</td>\n",
              "      <td>1934815.0</td>\n",
              "    </tr>\n",
              "    <tr>\n",
              "      <th>5641</th>\n",
              "      <td>2019-08-16</td>\n",
              "      <td>59.020000</td>\n",
              "      <td>59.639999</td>\n",
              "      <td>58.860001</td>\n",
              "      <td>59.560001</td>\n",
              "      <td>59.560001</td>\n",
              "      <td>1625628.0</td>\n",
              "    </tr>\n",
              "    <tr>\n",
              "      <th>5642</th>\n",
              "      <td>2019-08-19</td>\n",
              "      <td>60.230000</td>\n",
              "      <td>60.779999</td>\n",
              "      <td>59.889999</td>\n",
              "      <td>60.360001</td>\n",
              "      <td>60.360001</td>\n",
              "      <td>1283004.0</td>\n",
              "    </tr>\n",
              "    <tr>\n",
              "      <th>5643</th>\n",
              "      <td>2019-08-20</td>\n",
              "      <td>60.349998</td>\n",
              "      <td>60.580002</td>\n",
              "      <td>59.560001</td>\n",
              "      <td>59.740002</td>\n",
              "      <td>59.740002</td>\n",
              "      <td>1009171.0</td>\n",
              "    </tr>\n",
              "  </tbody>\n",
              "</table>\n",
              "</div>"
            ],
            "text/plain": [
              "            Date       Open       High  ...      Close  Adj Close     Volume\n",
              "5639  2019-08-14  61.099998  61.099998  ...  59.599998  59.599998  1972805.0\n",
              "5640  2019-08-15  59.759998  59.799999  ...  58.820000  58.820000  1934815.0\n",
              "5641  2019-08-16  59.020000  59.639999  ...  59.560001  59.560001  1625628.0\n",
              "5642  2019-08-19  60.230000  60.779999  ...  60.360001  60.360001  1283004.0\n",
              "5643  2019-08-20  60.349998  60.580002  ...  59.740002  59.740002  1009171.0\n",
              "\n",
              "[5 rows x 7 columns]"
            ]
          },
          "metadata": {
            "tags": []
          },
          "execution_count": 166
        }
      ]
    },
    {
      "cell_type": "code",
      "metadata": {
        "id": "-tUhdRS5WU9O",
        "colab_type": "code",
        "outputId": "bc2f859e-46a6-4c40-c79c-c377118a457e",
        "colab": {
          "base_uri": "https://localhost:8080/",
          "height": 295
        }
      },
      "source": [
        "from matplotlib import pyplot as plt\n",
        "plt.figure()\n",
        "plt.plot(df_ge[\"Open\"])\n",
        "plt.plot(df_ge[\"High\"])\n",
        "plt.plot(df_ge[\"Low\"])\n",
        "plt.plot(df_ge[\"Close\"])\n",
        "plt.title('GE stock price history')\n",
        "plt.ylabel('Price (USD)')\n",
        "plt.xlabel('Days')\n",
        "plt.legend(['Open','High','Low','Close'], loc='upper left')\n",
        "plt.show()"
      ],
      "execution_count": 167,
      "outputs": [
        {
          "output_type": "display_data",
          "data": {
            "image/png": "[encoded data removed]",
            "text/plain": [
              "<Figure size 432x288 with 1 Axes>"
            ]
          },
          "metadata": {
            "tags": []
          }
        }
      ]
    },
    {
      "cell_type": "code",
      "metadata": {
        "id": "QLsdp3prW2y6",
        "colab_type": "code",
        "outputId": "b0f69d96-6213-4de8-9963-9a1d7e1c9c07",
        "colab": {
          "base_uri": "https://localhost:8080/",
          "height": 295
        }
      },
      "source": [
        "plt.figure()\n",
        "plt.plot(df_ge[\"Volume\"])\n",
        "plt.title('GE stock volume history')\n",
        "plt.ylabel('Volume')\n",
        "plt.xlabel('Days')\n",
        "plt.show()"
      ],
      "execution_count": 168,
      "outputs": [
        {
          "output_type": "display_data",
          "data": {
            "image/png": "[encoded data removed]",
            "text/plain": [
              "<Figure size 432x288 with 1 Axes>"
            ]
          },
          "metadata": {
            "tags": []
          }
        }
      ]
    },
    {
      "cell_type": "code",
      "metadata": {
        "id": "9v8YaO9FXCLi",
        "colab_type": "code",
        "outputId": "69e55f9b-85f7-45bd-9930-37d49c60534d",
        "colab": {
          "base_uri": "https://localhost:8080/",
          "height": 168
        }
      },
      "source": [
        "df_ge = df_ge.dropna(how='any',axis=0) \n",
        "print(\"checking if any null values are present\\n\", df_ge.isna().sum())"
      ],
      "execution_count": 0,
      "outputs": [
        {
          "output_type": "stream",
          "text": [
            "checking if any null values are present\n",
            " Date         0\n",
            "Open         0\n",
            "High         0\n",
            "Low          0\n",
            "Close        0\n",
            "Adj Close    0\n",
            "Volume       0\n",
            "dtype: int64\n"
          ],
          "name": "stdout"
        }
      ]
    },
    {
      "cell_type": "code",
      "metadata": {
        "id": "NpvCjLoc4KUU",
        "colab_type": "code",
        "outputId": "750bb3b9-9a49-4bce-edcc-f68628ccc63e",
        "colab": {
          "base_uri": "https://localhost:8080/",
          "height": 269
        }
      },
      "source": [
        "from matplotlib import pyplot as plt\n",
        "plt.figure()\n",
        "plt.plot(df_ge['Open'])\n",
        "plt.show()"
      ],
      "execution_count": 0,
      "outputs": [
        {
          "output_type": "display_data",
          "data": {
            "image/png": "[encoded data removed]",
            "text/plain": [
              "<Figure size 432x288 with 1 Axes>"
            ]
          },
          "metadata": {
            "tags": []
          }
        }
      ]
    },
    {
      "cell_type": "code",
      "metadata": {
        "id": "wc6HBzulaxSE",
        "colab_type": "code",
        "outputId": "733c631e-89be-4c93-a25a-a67d9f2855cd",
        "colab": {
          "base_uri": "https://localhost:8080/",
          "height": 706
        }
      },
      "source": [
        "from sklearn.preprocessing import MinMaxScaler\n",
        "from sklearn.model_selection import train_test_split\n",
        "\n",
        "train_cols = [\"Open\",\"High\",\"Low\",\"Close\",\"Volume\"]\n",
        "op = df_ge.rolling(window = 500)['Open','Close','Low','High'].mean()\n",
        "\n",
        "op = pd.DataFrame(op)\n",
        "plt.figure()\n",
        "plt.plot(op['Open'])\n",
        "plt.show()\n",
        "df_train, df_test = train_test_split(op, train_size=0.8, test_size=0.2, shuffle=False)\n",
        "print(\"Train and Test size\", len(df_train), len(df_test))\n",
        "# scale the feature MinMax, build array\n",
        "x = df_train.loc[:,train_cols].values\n",
        "min_max_scaler = MinMaxScaler()\n",
        "print(x_train)\n",
        "x_train = min_max_scaler.fit_transform(x)\n",
        "x_test = min_max_scaler.transform(df_test.loc[:,train_cols])"
      ],
      "execution_count": 169,
      "outputs": [
        {
          "output_type": "display_data",
          "data": {
            "image/png": "[encoded data removed]",
            "text/plain": [
              "<Figure size 432x288 with 1 Axes>"
            ]
          },
          "metadata": {
            "tags": []
          }
        },
        {
          "output_type": "stream",
          "text": [
            "Train and Test size 4515 1129\n",
            "[[       nan        nan        nan        nan        nan]\n",
            " [       nan        nan        nan        nan        nan]\n",
            " [       nan        nan        nan        nan        nan]\n",
            " ...\n",
            " [0.99638599 0.99628587 0.99639479 0.99637381        nan]\n",
            " [0.998136   0.99813043 0.99819232 0.99820102        nan]\n",
            " [1.         1.         1.         1.                nan]]\n"
          ],
          "name": "stdout"
        },
        {
          "output_type": "stream",
          "text": [
            "/usr/local/lib/python3.6/dist-packages/pandas/core/indexing.py:1494: FutureWarning: \n",
            "Passing list-likes to .loc or [] with any missing label will raise\n",
            "KeyError in the future, you can use .reindex() as an alternative.\n",
            "\n",
            "See the documentation here:\n",
            "https://pandas.pydata.org/pandas-docs/stable/indexing.html#deprecate-loc-reindex-listlike\n",
            "  return self._getitem_tuple(key)\n",
            "/usr/local/lib/python3.6/dist-packages/sklearn/preprocessing/data.py:355: RuntimeWarning: All-NaN slice encountered\n",
            "  data_min = np.nanmin(X, axis=0)\n",
            "/usr/local/lib/python3.6/dist-packages/sklearn/preprocessing/data.py:356: RuntimeWarning: All-NaN slice encountered\n",
            "  data_max = np.nanmax(X, axis=0)\n",
            "/usr/local/lib/python3.6/dist-packages/pandas/core/indexing.py:1494: FutureWarning: \n",
            "Passing list-likes to .loc or [] with any missing label will raise\n",
            "KeyError in the future, you can use .reindex() as an alternative.\n",
            "\n",
            "See the documentation here:\n",
            "https://pandas.pydata.org/pandas-docs/stable/indexing.html#deprecate-loc-reindex-listlike\n",
            "  return self._getitem_tuple(key)\n"
          ],
          "name": "stderr"
        }
      ]
    },
    {
      "cell_type": "code",
      "metadata": {
        "id": "Pa-2P1rBa6pM",
        "colab_type": "code",
        "colab": {}
      },
      "source": [
        "\n",
        "def build_timeseries(mat, y_col_index):\n",
        "    # y_col_index is the index of column that would act as output column\n",
        "    # total number of time-series samples would be len(mat) - TIME_STEPS\n",
        "    dim_0 = mat.shape[0] - 3\n",
        "    dim_1 = mat.shape[1]\n",
        "    x = np.zeros((dim_0, 3, dim_1))\n",
        "    y = np.zeros((dim_0,))\n",
        "    for i in range(dim_0):\n",
        "        x[i] = mat[i:3+i]\n",
        "        y[i] = mat[3+i, y_col_index]\n",
        "    return x, y"
      ],
      "execution_count": 0,
      "outputs": []
    },
    {
      "cell_type": "code",
      "metadata": {
        "id": "CHjvGS6vbPi5",
        "colab_type": "code",
        "colab": {}
      },
      "source": [
        "\n",
        "def trim_dataset(mat, batch_size):\n",
        "    \"\"\"\n",
        "    trims dataset to a size that's divisible by BATCH_SIZE\n",
        "    \"\"\"\n",
        "    no_of_rows_drop = mat.shape[0]%batch_size\n",
        "    if(no_of_rows_drop > 0):\n",
        "        return mat[:-no_of_rows_drop]\n",
        "    else:\n",
        "        return mat"
      ],
      "execution_count": 0,
      "outputs": []
    },
    {
      "cell_type": "code",
      "metadata": {
        "id": "hMJc5hjLdIfK",
        "colab_type": "code",
        "outputId": "f70617cf-fedb-46fc-ac60-bc84bfb3074d",
        "colab": {
          "base_uri": "https://localhost:8080/",
          "height": 134
        }
      },
      "source": [
        "print(x_train)\n",
        "x_t, y_t = build_timeseries(x_train, 3)\n",
        "x_t = trim_dataset(x_t, 2)\n",
        "y_t = trim_dataset(y_t, 2)\n",
        "x_temp, y_temp = build_timeseries(x_test, 3)\n",
        "x_val, x_test_t = np.split(trim_dataset(x_temp, 2),2)\n",
        "y_val, y_test_t = np.split(trim_dataset(y_temp, 2),2)"
      ],
      "execution_count": 0,
      "outputs": [
        {
          "output_type": "stream",
          "text": [
            "[[       nan        nan        nan        nan        nan]\n",
            " [       nan        nan        nan        nan        nan]\n",
            " [       nan        nan        nan        nan        nan]\n",
            " ...\n",
            " [0.99638599 0.99628587 0.99639479 0.99637381        nan]\n",
            " [0.998136   0.99813043 0.99819232 0.99820102        nan]\n",
            " [1.         1.         1.         1.                nan]]\n"
          ],
          "name": "stdout"
        }
      ]
    },
    {
      "cell_type": "code",
      "metadata": {
        "id": "mjjf81dqd9_Z",
        "colab_type": "code",
        "colab": {}
      },
      "source": [
        "from keras.optimizers import Adam\n",
        "from keras.layers import Dense,Dropout\n",
        "from keras.layers import LSTM\n",
        "lstm_model = Sequential()\n",
        "lstm_model.add(LSTM(100, batch_input_shape=(2, 3, x_t.shape[0]), stateful=True,kernel_initializer='random_uniform'))\n",
        "lstm_model.add(Dropout(0.5))\n",
        "lstm_model.add(Dense(20,activation='relu'))\n",
        "lstm_model.add(Dense(1,activation='linear'))\n",
        "lstm_model.compile(loss='mean_squared_error', optimizer=Adam(lr=0.5))"
      ],
      "execution_count": 0,
      "outputs": []
    },
    {
      "cell_type": "code",
      "metadata": {
        "id": "Y9sjYd9IrQTN",
        "colab_type": "code",
        "colab": {}
      },
      "source": [
        "#x_t = x_t.dropna(how='any',axis=0)\n",
        "#y_val\n",
        "#df_ge = df_ge.dropna(how='any',axis=0) "
      ],
      "execution_count": 0,
      "outputs": []
    },
    {
      "cell_type": "code",
      "metadata": {
        "id": "F9Xwwk_Yf0zK",
        "colab_type": "code",
        "outputId": "c07c89ae-14ab-4499-cbe4-e21479438d92",
        "colab": {
          "base_uri": "https://localhost:8080/",
          "height": 508
        }
      },
      "source": [
        "print(\"checking if any null values are present\\n\", df_ge.isna().sum())\n",
        "from keras.callbacks import CSVLogger\n",
        "import os\n",
        "csv_logger = CSVLogger(os.path.join(\"User/Documents\",\"/home\", \"abhi.log\"), append=True)\n",
        "history = lstm_model.fit(x_t, y_t, epochs=10, verbose=2, batch_size=2,\n",
        "                    shuffle=False, validation_data=(trim_dataset(x_val, 2),\n",
        "                    trim_dataset(y_val, 2)),callbacks=[csv_logger])"
      ],
      "execution_count": 0,
      "outputs": [
        {
          "output_type": "stream",
          "text": [
            "checking if any null values are present\n",
            " Date         0\n",
            "Open         0\n",
            "High         0\n",
            "Low          0\n",
            "Close        0\n",
            "Adj Close    0\n",
            "Volume       0\n",
            "dtype: int64\n"
          ],
          "name": "stdout"
        },
        {
          "output_type": "error",
          "ename": "ValueError",
          "evalue": "ignored",
          "traceback": [
            "\u001b[0;31m---------------------------------------------------------------------------\u001b[0m",
            "\u001b[0;31mValueError\u001b[0m                                Traceback (most recent call last)",
            "\u001b[0;32m<ipython-input-154-de73917a7480>\u001b[0m in \u001b[0;36m<module>\u001b[0;34m()\u001b[0m\n\u001b[1;32m      5\u001b[0m history = lstm_model.fit(x_t, y_t, epochs=10, verbose=2, batch_size=2,\n\u001b[1;32m      6\u001b[0m                     shuffle=False, validation_data=(trim_dataset(x_val, 2),\n\u001b[0;32m----> 7\u001b[0;31m                     trim_dataset(y_val, 2)),callbacks=[csv_logger])\n\u001b[0m",
            "\u001b[0;32m/usr/local/lib/python3.6/dist-packages/keras/engine/training.py\u001b[0m in \u001b[0;36mfit\u001b[0;34m(self, x, y, batch_size, epochs, verbose, callbacks, validation_split, validation_data, shuffle, class_weight, sample_weight, initial_epoch, steps_per_epoch, validation_steps, validation_freq, max_queue_size, workers, use_multiprocessing, **kwargs)\u001b[0m\n\u001b[1;32m   1087\u001b[0m             \u001b[0msample_weight\u001b[0m\u001b[0;34m=\u001b[0m\u001b[0msample_weight\u001b[0m\u001b[0;34m,\u001b[0m\u001b[0;34m\u001b[0m\u001b[0;34m\u001b[0m\u001b[0m\n\u001b[1;32m   1088\u001b[0m             \u001b[0mclass_weight\u001b[0m\u001b[0;34m=\u001b[0m\u001b[0mclass_weight\u001b[0m\u001b[0;34m,\u001b[0m\u001b[0;34m\u001b[0m\u001b[0;34m\u001b[0m\u001b[0m\n\u001b[0;32m-> 1089\u001b[0;31m             batch_size=batch_size)\n\u001b[0m\u001b[1;32m   1090\u001b[0m \u001b[0;34m\u001b[0m\u001b[0m\n\u001b[1;32m   1091\u001b[0m         \u001b[0;31m# Prepare validation data.\u001b[0m\u001b[0;34m\u001b[0m\u001b[0;34m\u001b[0m\u001b[0;34m\u001b[0m\u001b[0m\n",
            "\u001b[0;32m/usr/local/lib/python3.6/dist-packages/keras/engine/training.py\u001b[0m in \u001b[0;36m_standardize_user_data\u001b[0;34m(self, x, y, sample_weight, class_weight, check_array_lengths, batch_size)\u001b[0m\n\u001b[1;32m    755\u001b[0m             \u001b[0mfeed_input_shapes\u001b[0m\u001b[0;34m,\u001b[0m\u001b[0;34m\u001b[0m\u001b[0;34m\u001b[0m\u001b[0m\n\u001b[1;32m    756\u001b[0m             \u001b[0mcheck_batch_axis\u001b[0m\u001b[0;34m=\u001b[0m\u001b[0;32mFalse\u001b[0m\u001b[0;34m,\u001b[0m  \u001b[0;31m# Don't enforce the batch size.\u001b[0m\u001b[0;34m\u001b[0m\u001b[0;34m\u001b[0m\u001b[0m\n\u001b[0;32m--> 757\u001b[0;31m             exception_prefix='input')\n\u001b[0m\u001b[1;32m    758\u001b[0m \u001b[0;34m\u001b[0m\u001b[0m\n\u001b[1;32m    759\u001b[0m         \u001b[0;32mif\u001b[0m \u001b[0my\u001b[0m \u001b[0;32mis\u001b[0m \u001b[0;32mnot\u001b[0m \u001b[0;32mNone\u001b[0m\u001b[0;34m:\u001b[0m\u001b[0;34m\u001b[0m\u001b[0;34m\u001b[0m\u001b[0m\n",
            "\u001b[0;32m/usr/local/lib/python3.6/dist-packages/keras/engine/training_utils.py\u001b[0m in \u001b[0;36mstandardize_input_data\u001b[0;34m(data, names, shapes, check_batch_axis, exception_prefix)\u001b[0m\n\u001b[1;32m    139\u001b[0m                             \u001b[0;34m': expected '\u001b[0m \u001b[0;34m+\u001b[0m \u001b[0mnames\u001b[0m\u001b[0;34m[\u001b[0m\u001b[0mi\u001b[0m\u001b[0;34m]\u001b[0m \u001b[0;34m+\u001b[0m \u001b[0;34m' to have shape '\u001b[0m \u001b[0;34m+\u001b[0m\u001b[0;34m\u001b[0m\u001b[0;34m\u001b[0m\u001b[0m\n\u001b[1;32m    140\u001b[0m                             \u001b[0mstr\u001b[0m\u001b[0;34m(\u001b[0m\u001b[0mshape\u001b[0m\u001b[0;34m)\u001b[0m \u001b[0;34m+\u001b[0m \u001b[0;34m' but got array with shape '\u001b[0m \u001b[0;34m+\u001b[0m\u001b[0;34m\u001b[0m\u001b[0;34m\u001b[0m\u001b[0m\n\u001b[0;32m--> 141\u001b[0;31m                             str(data_shape))\n\u001b[0m\u001b[1;32m    142\u001b[0m     \u001b[0;32mreturn\u001b[0m \u001b[0mdata\u001b[0m\u001b[0;34m\u001b[0m\u001b[0;34m\u001b[0m\u001b[0m\n\u001b[1;32m    143\u001b[0m \u001b[0;34m\u001b[0m\u001b[0m\n",
            "\u001b[0;31mValueError\u001b[0m: Error when checking input: expected lstm_4_input to have shape (3, 4492) but got array with shape (3, 5)"
          ]
        }
      ]
    },
    {
      "cell_type": "code",
      "metadata": {
        "id": "qpcFfq4g5H-D",
        "colab_type": "code",
        "colab": {}
      },
      "source": [
        "print(history.history.keys())"
      ],
      "execution_count": 0,
      "outputs": []
    },
    {
      "cell_type": "code",
      "metadata": {
        "id": "MPYnrrId5LU_",
        "colab_type": "code",
        "colab": {}
      },
      "source": [
        "plt.plot(history.history['loss'])\n",
        "plt.plot(history.history['val_loss'])\n",
        "plt.show()"
      ],
      "execution_count": 0,
      "outputs": []
    }
  ]
}