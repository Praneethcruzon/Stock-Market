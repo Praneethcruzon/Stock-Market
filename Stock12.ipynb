{
  "nbformat": 4,
  "nbformat_minor": 0,
  "metadata": {
    "colab": {
      "name": "Stock12.ipynb",
      "provenance": [],
      "collapsed_sections": [],
      "toc_visible": true,
      "include_colab_link": true
    },
    "kernelspec": {
      "name": "python3",
      "display_name": "Python 3"
    }
  },
  "cells": [
    {
      "cell_type": "markdown",
      "metadata": {
        "id": "view-in-github",
        "colab_type": "text"
      },
      "source": [
        "<a href=\"https://colab.research.google.com/github/Praneethcruzon/Stock-Market/blob/master/Stock12.ipynb\" target=\"_parent\"><img src=\"https://colab.research.google.com/assets/colab-badge.svg\" alt=\"Open In Colab\"/></a>"
      ]
    },
    {
      "cell_type": "code",
      "metadata": {
        "id": "G4ZmKBKUUYZ3",
        "colab_type": "code",
        "outputId": "8da6fa40-a2cf-415a-a714-830136ee9217",
        "colab": {
          "base_uri": "https://localhost:8080/",
          "height": 195
        }
      },
      "source": [
        "from keras.models import Sequential\n",
        "import pandas as pd\n",
        "from tqdm import tqdm_notebook as tqdm_notebook\n",
        "import numpy as np\n",
        "df_ge = pd.read_csv(\"BMW.DE.csv\")\n",
        "df_ge.tail()"
      ],
      "execution_count": 0,
      "outputs": [
        {
          "output_type": "execute_result",
          "data": {
            "text/html": [
              "<div>\n",
              "<style scoped>\n",
              "    .dataframe tbody tr th:only-of-type {\n",
              "        vertical-align: middle;\n",
              "    }\n",
              "\n",
              "    .dataframe tbody tr th {\n",
              "        vertical-align: top;\n",
              "    }\n",
              "\n",
              "    .dataframe thead th {\n",
              "        text-align: right;\n",
              "    }\n",
              "</style>\n",
              "<table border=\"1\" class=\"dataframe\">\n",
              "  <thead>\n",
              "    <tr style=\"text-align: right;\">\n",
              "      <th></th>\n",
              "      <th>Date</th>\n",
              "      <th>Open</th>\n",
              "      <th>High</th>\n",
              "      <th>Low</th>\n",
              "      <th>Close</th>\n",
              "      <th>Adj Close</th>\n",
              "      <th>Volume</th>\n",
              "    </tr>\n",
              "  </thead>\n",
              "  <tbody>\n",
              "    <tr>\n",
              "      <th>5639</th>\n",
              "      <td>2019-08-14</td>\n",
              "      <td>61.099998</td>\n",
              "      <td>61.099998</td>\n",
              "      <td>59.299999</td>\n",
              "      <td>59.599998</td>\n",
              "      <td>59.599998</td>\n",
              "      <td>1972805.0</td>\n",
              "    </tr>\n",
              "    <tr>\n",
              "      <th>5640</th>\n",
              "      <td>2019-08-15</td>\n",
              "      <td>59.759998</td>\n",
              "      <td>59.799999</td>\n",
              "      <td>58.040001</td>\n",
              "      <td>58.820000</td>\n",
              "      <td>58.820000</td>\n",
              "      <td>1934815.0</td>\n",
              "    </tr>\n",
              "    <tr>\n",
              "      <th>5641</th>\n",
              "      <td>2019-08-16</td>\n",
              "      <td>59.020000</td>\n",
              "      <td>59.639999</td>\n",
              "      <td>58.860001</td>\n",
              "      <td>59.560001</td>\n",
              "      <td>59.560001</td>\n",
              "      <td>1625628.0</td>\n",
              "    </tr>\n",
              "    <tr>\n",
              "      <th>5642</th>\n",
              "      <td>2019-08-19</td>\n",
              "      <td>60.230000</td>\n",
              "      <td>60.779999</td>\n",
              "      <td>59.889999</td>\n",
              "      <td>60.360001</td>\n",
              "      <td>60.360001</td>\n",
              "      <td>1283004.0</td>\n",
              "    </tr>\n",
              "    <tr>\n",
              "      <th>5643</th>\n",
              "      <td>2019-08-20</td>\n",
              "      <td>60.349998</td>\n",
              "      <td>60.580002</td>\n",
              "      <td>59.560001</td>\n",
              "      <td>59.740002</td>\n",
              "      <td>59.740002</td>\n",
              "      <td>1009171.0</td>\n",
              "    </tr>\n",
              "  </tbody>\n",
              "</table>\n",
              "</div>"
            ],
            "text/plain": [
              "            Date       Open       High  ...      Close  Adj Close     Volume\n",
              "5639  2019-08-14  61.099998  61.099998  ...  59.599998  59.599998  1972805.0\n",
              "5640  2019-08-15  59.759998  59.799999  ...  58.820000  58.820000  1934815.0\n",
              "5641  2019-08-16  59.020000  59.639999  ...  59.560001  59.560001  1625628.0\n",
              "5642  2019-08-19  60.230000  60.779999  ...  60.360001  60.360001  1283004.0\n",
              "5643  2019-08-20  60.349998  60.580002  ...  59.740002  59.740002  1009171.0\n",
              "\n",
              "[5 rows x 7 columns]"
            ]
          },
          "metadata": {
            "tags": []
          },
          "execution_count": 8
        }
      ]
    },
    {
      "cell_type": "code",
      "metadata": {
        "id": "-tUhdRS5WU9O",
        "colab_type": "code",
        "outputId": "fab5e81f-016d-4e28-8496-ab97f176b05c",
        "colab": {
          "base_uri": "https://localhost:8080/",
          "height": 295
        }
      },
      "source": [
        "from matplotlib import pyplot as plt\n",
        "plt.figure()\n",
        "plt.plot(df_ge[\"Open\"])\n",
        "plt.plot(df_ge[\"High\"])\n",
        "plt.plot(df_ge[\"Low\"])\n",
        "plt.plot(df_ge[\"Close\"])\n",
        "plt.title('GE stock price history')\n",
        "plt.ylabel('Price (USD)')\n",
        "plt.xlabel('Days')\n",
        "plt.legend(['Open','High','Low','Close'], loc='upper left')\n",
        "plt.show()"
      ],
      "execution_count": 0,
      "outputs": [
        {
          "output_type": "display_data",
          "data": {
            "image/png": "[encoded data removed]",
            "text/plain": [
              "<Figure size 432x288 with 1 Axes>"
            ]
          },
          "metadata": {
            "tags": []
          }
        }
      ]
    },
    {
      "cell_type": "code",
      "metadata": {
        "id": "QLsdp3prW2y6",
        "colab_type": "code",
        "outputId": "351063b2-9dc1-4d1e-f1d2-f4ebfa51e3a1",
        "colab": {
          "base_uri": "https://localhost:8080/",
          "height": 295
        }
      },
      "source": [
        "plt.figure()\n",
        "plt.plot(df_ge[\"Volume\"])\n",
        "plt.title('GE stock volume history')\n",
        "plt.ylabel('Volume')\n",
        "plt.xlabel('Days')\n",
        "plt.show()"
      ],
      "execution_count": 0,
      "outputs": [
        {
          "output_type": "display_data",
          "data": {
            "image/png": "[encoded data removed]",
            "text/plain": [
              "<Figure size 432x288 with 1 Axes>"
            ]
          },
          "metadata": {
            "tags": []
          }
        }
      ]
    },
    {
      "cell_type": "code",
      "metadata": {
        "id": "9v8YaO9FXCLi",
        "colab_type": "code",
        "outputId": "65e9c519-35dc-4fa6-d9ce-30a6fb6c73c3",
        "colab": {
          "base_uri": "https://localhost:8080/",
          "height": 168
        }
      },
      "source": [
        "df_ge = df_ge.dropna(how='any',axis=0) \n",
        "print(\"checking if any null values are present\\n\", df_ge.isna().sum())"
      ],
      "execution_count": 0,
      "outputs": [
        {
          "output_type": "stream",
          "text": [
            "checking if any null values are present\n",
            " Date         0\n",
            "Open         0\n",
            "High         0\n",
            "Low          0\n",
            "Close        0\n",
            "Adj Close    0\n",
            "Volume       0\n",
            "dtype: int64\n"
          ],
          "name": "stdout"
        }
      ]
    },
    {
      "cell_type": "code",
      "metadata": {
        "id": "NpvCjLoc4KUU",
        "colab_type": "code",
        "outputId": "5cf1792d-7f09-480e-a85f-4dda0d7aafc2",
        "colab": {
          "base_uri": "https://localhost:8080/",
          "height": 269
        }
      },
      "source": [
        "from matplotlib import pyplot as plt\n",
        "plt.figure()\n",
        "plt.plot(df_ge['Open'])\n",
        "plt.show()"
      ],
      "execution_count": 0,
      "outputs": [
        {
          "output_type": "display_data",
          "data": {
            "image/png": "[encoded data removed]",
            "text/plain": [
              "<Figure size 432x288 with 1 Axes>"
            ]
          },
          "metadata": {
            "tags": []
          }
        }
      ]
    },
    {
      "cell_type": "code",
      "metadata": {
        "id": "wc6HBzulaxSE",
        "colab_type": "code",
        "outputId": "fbee91fe-e837-46b8-cd7b-edcbcc2df79d",
        "colab": {
          "base_uri": "https://localhost:8080/",
          "height": 1000
        }
      },
      "source": [
        "from sklearn.preprocessing import MinMaxScaler\n",
        "from sklearn.model_selection import train_test_split\n",
        "\n",
        "train_cols = [\"Open\",\"High\",\"Low\",\"Close\",\"Volume\"]\n",
        "op = df_ge.rolling(window = 500)['Open','Close','Low','High','Volume'].mean()\n",
        "\n",
        "op = pd.DataFrame(op)\n",
        "plt.figure()\n",
        "plt.plot(op['Open'])\n",
        "plt.show()\n",
        "df_train, df_test = train_test_split(op, train_size=0.8, test_size=0.2, shuffle=False)\n",
        "df_train = df_train.dropna(how='any',axis=0)\n",
        "print(df_train)\n",
        "\n",
        "print(\"Train and Test size\", len(df_train), len(df_test))\n",
        "\n",
        "print(df_test)\n",
        "x = df_train.loc[:,train_cols].values\n",
        "min_max_scaler = MinMaxScaler()\n",
        "x_train = min_max_scaler.fit_transform(x)\n",
        "x_test = min_max_scaler.transform(df_test.loc[:,train_cols])"
      ],
      "execution_count": 0,
      "outputs": [
        {
          "output_type": "display_data",
          "data": {
            "image/png": "[encoded data removed]",
            "text/plain": [
              "<Figure size 432x288 with 1 Axes>"
            ]
          },
          "metadata": {
            "tags": []
          }
        },
        {
          "output_type": "stream",
          "text": [
            "           Open      Close        Low       High       Volume\n",
            "520   28.265874  28.271000  27.748718  28.801946  1860593.068\n",
            "521   28.268128  28.273602  27.750764  28.804440  1862724.548\n",
            "522   28.270124  28.275288  27.752692  28.807192  1865506.598\n",
            "523   28.274640  28.279650  27.756086  28.812506  1865060.994\n",
            "524   28.279418  28.283750  27.759104  28.817126  1866772.724\n",
            "525   28.283364  28.289620  27.764698  28.821470  1861789.464\n",
            "526   28.290104  28.294460  27.770896  28.826214  1857628.924\n",
            "527   28.295434  28.301366  27.777356  28.834386  1856388.564\n",
            "528   28.304640  28.311320  27.786290  28.844076  1856840.718\n",
            "529   28.314948  28.320800  27.794718  28.853620  1854172.160\n",
            "530   28.323294  28.327394  27.802344  28.860304  1849873.862\n",
            "531   28.329502  28.333638  27.807166  28.865844  1843643.536\n",
            "532   28.334312  28.338464  27.812604  28.872722  1841647.494\n",
            "533   28.342598  28.346480  27.820694  28.881248  1838981.122\n",
            "534   28.351748  28.354112  27.829204  28.891260  1836996.598\n",
            "535   28.360514  28.361968  27.838818  28.901502  1829710.134\n",
            "536   28.371158  28.372860  27.847920  28.912174  1822925.484\n",
            "537   28.381652  28.382998  27.856988  28.922672  1818102.742\n",
            "538   28.391108  28.393392  27.867680  28.932700  1810090.392\n",
            "539   28.401818  28.402324  27.876298  28.942292  1804195.582\n",
            "540   28.408392  28.407442  27.882400  28.949790  1798980.942\n",
            "541   28.414254  28.414654  27.887062  28.955794  1796422.964\n",
            "542   28.419942  28.420660  27.891780  28.961502  1797129.566\n",
            "543   28.424972  28.425918  27.896942  28.967198  1791652.292\n",
            "544   28.429522  28.429040  27.901012  28.971120  1789914.084\n",
            "545   28.432640  28.433036  27.902708  28.975898  1789257.482\n",
            "546   28.435672  28.433662  27.905912  28.978324  1785688.644\n",
            "547   28.436740  28.435182  27.906544  28.977694  1778160.102\n",
            "548   28.436892  28.431942  27.905996  28.975696  1769793.760\n",
            "549   28.434398  28.428454  27.901198  28.971274  1768376.702\n",
            "...         ...        ...        ...        ...          ...\n",
            "4490  82.202060  82.164700  81.303820  82.927300  1636043.810\n",
            "4491  82.267240  82.233860  81.371500  82.996940  1636239.872\n",
            "4492  82.337280  82.304520  81.440920  83.067080  1635431.432\n",
            "4493  82.404640  82.365220  81.501260  83.133160  1636980.900\n",
            "4494  82.465840  82.431260  81.563360  83.198920  1637464.310\n",
            "4495  82.531380  82.496860  81.627360  83.264720  1636259.382\n",
            "4496  82.599300  82.567520  81.695560  83.336740  1636933.284\n",
            "4497  82.672640  82.639540  81.767780  83.408840  1635389.828\n",
            "4498  82.743300  82.711220  81.838780  83.479840  1633871.210\n",
            "4499  82.815000  82.786600  81.910300  83.553140  1631194.784\n",
            "4500  82.891180  82.866520  81.988660  83.630400  1627533.790\n",
            "4501  82.969400  82.944260  82.066060  83.706500  1623971.404\n",
            "4502  83.050020  83.027540  82.146240  83.787740  1624006.714\n",
            "4503  83.134980  83.110200  82.230320  83.872740  1622593.876\n",
            "4504  83.216240  83.190100  82.309520  83.954400  1622275.286\n",
            "4505  83.296440  83.271000  82.391660  84.034060  1620503.146\n",
            "4506  83.378200  83.356200  82.474860  84.118080  1620120.912\n",
            "4507  83.461120  83.439380  82.555340  84.200680  1619711.264\n",
            "4508  83.544840  83.524580  82.637660  84.285780  1619708.146\n",
            "4509  83.629300  83.602540  82.716420  84.370720  1619844.472\n",
            "4510  83.707920  83.683240  82.793840  84.450920  1620349.438\n",
            "4511  83.790560  83.767120  82.875380  84.534320  1621063.824\n",
            "4512  83.875520  83.853720  82.960500  84.621440  1621423.466\n",
            "4513  83.962060  83.939880  83.047140  84.708340  1620825.044\n",
            "4514  84.047020  84.025400  83.132240  84.794260  1618333.506\n",
            "4515  84.132500  84.124100  83.221020  84.891420  1614837.978\n",
            "4516  84.232980  84.220820  83.316620  84.989200  1616098.372\n",
            "4517  84.332760  84.322580  83.413860  85.085700  1612686.398\n",
            "4518  84.433160  84.427480  83.516480  85.191900  1612394.852\n",
            "4519  84.540100  84.530760  83.619680  85.299540  1611418.112\n",
            "\n",
            "[3996 rows x 5 columns]\n",
            "Train and Test size 3996 1124\n",
            "          Open     Close       Low      High       Volume\n",
            "4520  84.64428  84.62338  83.70950  85.40210  1616747.444\n",
            "4521  84.73444  84.71708  83.79928  85.49440  1618404.566\n",
            "4522  84.82798  84.81096  83.89280  85.59050  1621368.646\n",
            "4523  84.92086  84.90026  83.98240  85.68324  1621285.740\n",
            "4524  85.00852  84.99584  84.07224  85.77624  1619846.552\n",
            "4525  85.10550  85.08744  84.16730  85.87334  1618656.882\n",
            "4526  85.19430  85.18356  84.25204  85.96782  1620475.550\n",
            "4527  85.29110  85.28062  84.34742  86.06756  1620755.192\n",
            "4528  85.39012  85.38400  84.44966  86.16860  1618977.886\n",
            "4529  85.49092  85.48430  84.54808  86.27042  1620078.092\n",
            "4530  85.58900  85.58350  84.64684  86.37204  1620057.676\n",
            "4531  85.68842  85.67750  84.74382  86.46900  1617945.642\n",
            "4532  85.78482  85.76924  84.83580  86.56264  1617301.240\n",
            "4533  85.87556  85.86094  84.92544  86.65350  1617114.346\n",
            "4534  85.97090  85.96046  85.02168  86.75088  1617028.826\n",
            "4535  86.07240  86.06144  85.12234  86.85112  1616738.628\n",
            "4536  86.17222  86.16394  85.22546  86.95214  1613362.024\n",
            "4537  86.27444  86.26638  85.32812  87.05608  1612349.080\n",
            "4538  86.37622  86.36750  85.43020  87.15966  1610022.910\n",
            "4539  86.47728  86.46282  85.52614  87.25902  1609966.192\n",
            "4540  86.57268  86.55006  85.61766  87.35312  1609878.410\n",
            "4541  86.66178  86.63778  85.70666  87.44282  1608885.116\n",
            "4542  86.75130  86.72400  85.79520  87.53116  1608251.282\n",
            "4543  86.83980  86.80676  85.87756  87.61948  1609875.536\n",
            "4544  86.92318  86.88754  85.95752  87.70250  1610506.980\n",
            "4545  87.00422  86.96834  86.03712  87.78392  1610171.850\n",
            "4546  87.08582  87.05286  86.11724  87.86632  1607195.236\n",
            "4547  87.17228  87.12832  86.19472  87.95044  1607060.490\n",
            "4548  87.24954  87.19836  86.26336  88.02754  1610523.352\n",
            "4549  87.31988  87.26860  86.33094  88.09958  1611721.722\n",
            "...        ...       ...       ...       ...          ...\n",
            "5614  79.95858  79.93612  79.21114  80.64052  1822034.876\n",
            "5615  79.92308  79.90004  79.17534  80.60476  1823147.676\n",
            "5616  79.88440  79.86508  79.13834  80.56928  1824951.610\n",
            "5617  79.85020  79.83602  79.10950  80.53672  1820435.500\n",
            "5618  79.82410  79.81238  79.08536  80.51126  1814940.840\n",
            "5619  79.79998  79.78622  79.06152  80.48656  1812118.526\n",
            "5620  79.77328  79.76030  79.03552  80.45912  1811234.600\n",
            "5621  79.74816  79.73644  79.01224  80.43584  1811099.312\n",
            "5622  79.72540  79.71428  78.99104  80.41378  1808589.838\n",
            "5623  79.70526  79.69754  78.97148  80.39786  1812105.524\n",
            "5624  79.68760  79.67978  78.95296  80.37998  1811608.336\n",
            "5625  79.66980  79.65996  78.93318  80.36178  1811078.542\n",
            "5626  79.64874  79.63854  78.91180  80.34024  1809804.944\n",
            "5627  79.62644  79.61242  78.88906  80.31208  1805215.138\n",
            "5628  79.60038  79.58464  78.86138  80.28536  1805722.870\n",
            "5629  79.57288  79.55672  78.83436  80.25734  1806292.078\n",
            "5630  79.54650  79.53156  78.80900  80.23230  1806408.526\n",
            "5631  79.51810  79.50076  78.77792  80.20434  1811882.024\n",
            "5632  79.48540  79.46754  78.74458  80.17162  1813545.306\n",
            "5633  79.45130  79.43166  78.70878  80.13706  1815337.740\n",
            "5634  79.41550  79.39588  78.67254  80.10154  1817063.822\n",
            "5635  79.38018  79.36066  78.63652  80.06592  1818204.850\n",
            "5636  79.34398  79.32310  78.59864  80.02970  1820400.060\n",
            "5637  79.30822  79.28568  78.56212  79.99404  1819470.840\n",
            "5638  79.27032  79.24982  78.52462  79.95846  1821705.670\n",
            "5639  79.23394  79.21026  78.48516  79.92140  1823617.112\n",
            "5640  79.19458  79.16968  78.44346  79.88144  1825450.602\n",
            "5641  79.15412  79.12922  78.40338  79.83972  1825320.236\n",
            "5642  79.11464  79.09136  78.36476  79.80068  1825749.960\n",
            "5643  79.07724  79.05242  78.32760  79.76314  1826173.392\n",
            "\n",
            "[1124 rows x 5 columns]\n"
          ],
          "name": "stdout"
        }
      ]
    },
    {
      "cell_type": "code",
      "metadata": {
        "id": "Pa-2P1rBa6pM",
        "colab_type": "code",
        "colab": {}
      },
      "source": [
        "\n",
        "def build_timeseries(mat, y_col_index):\n",
        "    # y_col_index is the index of column that would act as output column\n",
        "    # total number of time-series samples would be len(mat) - TIME_STEPS\n",
        "    dim_0 = mat.shape[0] - 3\n",
        "    dim_1 = mat.shape[1]\n",
        "    x = np.zeros((dim_0, 3, dim_1))\n",
        "    y = np.zeros((dim_0,))\n",
        "    for i in range(dim_0):\n",
        "        x[i] = mat[i:3+i]\n",
        "        y[i] = mat[3+i, y_col_index]\n",
        "    return x, y"
      ],
      "execution_count": 0,
      "outputs": []
    },
    {
      "cell_type": "code",
      "metadata": {
        "id": "CHjvGS6vbPi5",
        "colab_type": "code",
        "colab": {}
      },
      "source": [
        "\n",
        "def trim_dataset(mat, batch_size):\n",
        "    \"\"\"\n",
        "    trims dataset to a size that's divisible by BATCH_SIZE\n",
        "    \"\"\"\n",
        "    no_of_rows_drop = mat.shape[0]%batch_size\n",
        "    if(no_of_rows_drop > 0):\n",
        "        return mat[:-no_of_rows_drop]\n",
        "    else:\n",
        "        return mat"
      ],
      "execution_count": 0,
      "outputs": []
    },
    {
      "cell_type": "code",
      "metadata": {
        "id": "hMJc5hjLdIfK",
        "colab_type": "code",
        "colab": {}
      },
      "source": [
        "\n",
        "x_t, y_t = build_timeseries(x_train, 3)\n",
        "x_t = trim_dataset(x_t, 2)\n",
        "y_t = trim_dataset(y_t, 2)\n",
        "x_temp, y_temp = build_timeseries(x_test, 3)\n",
        "x_val, x_test_t = np.split(trim_dataset(x_temp, 2),2)\n",
        "y_val, y_test_t = np.split(trim_dataset(y_temp, 2),2)"
      ],
      "execution_count": 0,
      "outputs": []
    },
    {
      "cell_type": "code",
      "metadata": {
        "id": "mjjf81dqd9_Z",
        "colab_type": "code",
        "colab": {}
      },
      "source": [
        "#from keras.optimizers import Adam\n",
        "#from keras.layers import Dense,Dropout\n",
        "#from keras.layers import LSTM\n",
        "#lstm_model = Sequential()\n",
        "#lstm_model.add(LSTM(100, batch_input_shape=(2, 3, x_t.shape[0]), stateful=True,kernel_initializer='random_uniform'))\n",
        "#lstm_model.add(Dropout(0.5))\n",
        "#lstm_model.add(Dense(20,activation='relu'))\n",
        "#lstm_model.add(Dense(1,activation='linear'))\n",
        "#lstm_model.compile(loss='mean_squared_error', optimizer=Adam(lr=0.5))\n",
        "#print(x_t)\n",
        "\n",
        "from keras.optimizers import Adam\n",
        "from keras.layers import Dense,Dropout\n",
        "from keras.layers import LSTM\n",
        "lstm_model = Sequential()\n",
        "lstm_model.add(LSTM(100, batch_input_shape=(2, 3, x_t.shape[2]), stateful=True,     kernel_initializer='random_uniform'))\n",
        "lstm_model.add(Dropout(0.5))\n",
        "lstm_model.add(Dense(20,activation='relu'))\n",
        "lstm_model.add(Dense(1,activation='linear'))\n",
        "lstm_model.compile(loss='mean_squared_error', optimizer=Adam(lr=0.5),metrics=['accuracy'])\n",
        "\n"
      ],
      "execution_count": 0,
      "outputs": []
    },
    {
      "cell_type": "code",
      "metadata": {
        "id": "Y9sjYd9IrQTN",
        "colab_type": "code",
        "outputId": "b3e472df-bbef-46f7-bcdc-854afea9f49c",
        "colab": {
          "base_uri": "https://localhost:8080/",
          "height": 437
        }
      },
      "source": [
        "x_test_t"
      ],
      "execution_count": 0,
      "outputs": [
        {
          "output_type": "execute_result",
          "data": {
            "text/plain": [
              "array([[[0.9778073 , 0.98064917, 0.97496745, 0.97634601, 0.16701532],\n",
              "        [0.97728229, 0.98018334, 0.97450362, 0.97592483, 0.16720572],\n",
              "        [0.97689673, 0.97979532, 0.9741596 , 0.97550853, 0.16695096]],\n",
              "\n",
              "       [[0.97728229, 0.98018334, 0.97450362, 0.97592483, 0.16720572],\n",
              "        [0.97689673, 0.97979532, 0.9741596 , 0.97550853, 0.16695096],\n",
              "        [0.97646446, 0.97931421, 0.97375987, 0.9750971 , 0.16455722]],\n",
              "\n",
              "       [[0.97689673, 0.97979532, 0.9741596 , 0.97550853, 0.16695096],\n",
              "        [0.97646446, 0.97931421, 0.97375987, 0.9750971 , 0.16455722],\n",
              "        [0.97594852, 0.97872575, 0.9731976 , 0.9744885 , 0.16356984]],\n",
              "\n",
              "       ...,\n",
              "\n",
              "       [[0.90880635, 0.90785028, 0.91141023, 0.90863852, 0.14808043],\n",
              "        [0.90814574, 0.9072323 , 0.91075336, 0.9080139 , 0.14882119],\n",
              "        [0.90751162, 0.90658861, 0.91006217, 0.90732482, 0.14945476]],\n",
              "\n",
              "       [[0.90814574, 0.9072323 , 0.91075336, 0.9080139 , 0.14882119],\n",
              "        [0.90751162, 0.90658861, 0.91006217, 0.90732482, 0.14945476],\n",
              "        [0.90682556, 0.90589456, 0.90933174, 0.90661798, 0.15006249]],\n",
              "\n",
              "       [[0.90751162, 0.90658861, 0.91006217, 0.90732482, 0.14945476],\n",
              "        [0.90682556, 0.90589456, 0.90933174, 0.90661798, 0.15006249],\n",
              "        [0.90612033, 0.90516994, 0.90862969, 0.90591322, 0.15001928]]])"
            ]
          },
          "metadata": {
            "tags": []
          },
          "execution_count": 18
        }
      ]
    },
    {
      "cell_type": "code",
      "metadata": {
        "id": "F9Xwwk_Yf0zK",
        "colab_type": "code",
        "outputId": "45b46136-5f91-439f-cb94-29703b881e03",
        "colab": {
          "base_uri": "https://localhost:8080/",
          "height": 370
        }
      },
      "source": [
        "from keras.callbacks import CSVLogger\n",
        "import os\n",
        "csv_logger = CSVLogger(os.path.join(\"User/Documents\",\"/home\", \"abhi.log\"), append=True)\n",
        "history = lstm_model.fit(x_t, y_t, epochs=50, verbose=2, batch_size=2,\n",
        "                    shuffle=False, validation_data=(trim_dataset(x_val, 2),\n",
        "                    trim_dataset(y_val, 2)),callbacks=[csv_logger])"
      ],
      "execution_count": 24,
      "outputs": [
        {
          "output_type": "stream",
          "text": [
            "Train on 3992 samples, validate on 560 samples\n",
            "Epoch 1/10\n",
            " - 7s - loss: 1.8830 - acc: 2.5050e-04 - val_loss: 0.0100 - val_acc: 0.0000e+00\n",
            "Epoch 2/10\n",
            " - 7s - loss: 0.0028 - acc: 2.5050e-04 - val_loss: 0.0096 - val_acc: 0.0000e+00\n",
            "Epoch 3/10\n",
            " - 7s - loss: 0.0025 - acc: 2.5050e-04 - val_loss: 0.0095 - val_acc: 0.0000e+00\n",
            "Epoch 4/10\n",
            " - 7s - loss: 0.0026 - acc: 2.5050e-04 - val_loss: 0.0092 - val_acc: 0.0000e+00\n",
            "Epoch 5/10\n",
            " - 7s - loss: 707.6954 - acc: 2.5050e-04 - val_loss: 0.0381 - val_acc: 0.0000e+00\n",
            "Epoch 6/10\n",
            " - 7s - loss: 0.0580 - acc: 0.0000e+00 - val_loss: 0.0204 - val_acc: 0.0000e+00\n",
            "Epoch 7/10\n",
            " - 7s - loss: 0.0100 - acc: 2.5050e-04 - val_loss: 0.0073 - val_acc: 0.0000e+00\n",
            "Epoch 8/10\n",
            " - 7s - loss: 1.5060 - acc: 0.0000e+00 - val_loss: 0.0121 - val_acc: 0.0000e+00\n",
            "Epoch 9/10\n",
            " - 7s - loss: 0.0031 - acc: 2.5050e-04 - val_loss: 0.0099 - val_acc: 0.0000e+00\n",
            "Epoch 10/10\n",
            " - 7s - loss: 0.9482 - acc: 2.5050e-04 - val_loss: 0.0099 - val_acc: 0.0000e+00\n"
          ],
          "name": "stdout"
        }
      ]
    },
    {
      "cell_type": "code",
      "metadata": {
        "id": "n1cpdHS3P9rk",
        "colab_type": "code",
        "colab": {
          "base_uri": "https://localhost:8080/",
          "height": 357
        },
        "outputId": "924924cd-7f41-4b7d-b7dc-31b13a2da03b"
      },
      "source": [
        "score = lstm_model.evaluate(x_test_t,y_test_t)\n",
        "print('Test loss:', score[0])\n",
        "print('Test accuracy:', score[1])"
      ],
      "execution_count": 30,
      "outputs": [
        {
          "output_type": "error",
          "ename": "ValueError",
          "evalue": "ignored",
          "traceback": [
            "\u001b[0;31m---------------------------------------------------------------------------\u001b[0m",
            "\u001b[0;31mValueError\u001b[0m                                Traceback (most recent call last)",
            "\u001b[0;32m<ipython-input-30-e8af59308f8c>\u001b[0m in \u001b[0;36m<module>\u001b[0;34m()\u001b[0m\n\u001b[0;32m----> 1\u001b[0;31m \u001b[0mscore\u001b[0m \u001b[0;34m=\u001b[0m \u001b[0mlstm_model\u001b[0m\u001b[0;34m.\u001b[0m\u001b[0mevaluate\u001b[0m\u001b[0;34m(\u001b[0m\u001b[0mx_test_t\u001b[0m\u001b[0;34m,\u001b[0m\u001b[0my_test_t\u001b[0m\u001b[0;34m)\u001b[0m\u001b[0;34m\u001b[0m\u001b[0;34m\u001b[0m\u001b[0m\n\u001b[0m\u001b[1;32m      2\u001b[0m \u001b[0mprint\u001b[0m\u001b[0;34m(\u001b[0m\u001b[0;34m'Test loss:'\u001b[0m\u001b[0;34m,\u001b[0m \u001b[0mscore\u001b[0m\u001b[0;34m[\u001b[0m\u001b[0;36m0\u001b[0m\u001b[0;34m]\u001b[0m\u001b[0;34m)\u001b[0m\u001b[0;34m\u001b[0m\u001b[0;34m\u001b[0m\u001b[0m\n\u001b[1;32m      3\u001b[0m \u001b[0mprint\u001b[0m\u001b[0;34m(\u001b[0m\u001b[0;34m'Test accuracy:'\u001b[0m\u001b[0;34m,\u001b[0m \u001b[0mscore\u001b[0m\u001b[0;34m[\u001b[0m\u001b[0;36m1\u001b[0m\u001b[0;34m]\u001b[0m\u001b[0;34m)\u001b[0m\u001b[0;34m\u001b[0m\u001b[0;34m\u001b[0m\u001b[0m\n",
            "\u001b[0;32m/usr/local/lib/python3.6/dist-packages/keras/engine/training.py\u001b[0m in \u001b[0;36mevaluate\u001b[0;34m(self, x, y, batch_size, verbose, sample_weight, steps, callbacks, max_queue_size, workers, use_multiprocessing)\u001b[0m\n\u001b[1;32m   1286\u001b[0m             \u001b[0mx\u001b[0m\u001b[0;34m,\u001b[0m \u001b[0my\u001b[0m\u001b[0;34m,\u001b[0m\u001b[0;34m\u001b[0m\u001b[0;34m\u001b[0m\u001b[0m\n\u001b[1;32m   1287\u001b[0m             \u001b[0msample_weight\u001b[0m\u001b[0;34m=\u001b[0m\u001b[0msample_weight\u001b[0m\u001b[0;34m,\u001b[0m\u001b[0;34m\u001b[0m\u001b[0;34m\u001b[0m\u001b[0m\n\u001b[0;32m-> 1288\u001b[0;31m             batch_size=batch_size)\n\u001b[0m\u001b[1;32m   1289\u001b[0m         \u001b[0;31m# Prepare inputs, delegate logic to `test_loop`.\u001b[0m\u001b[0;34m\u001b[0m\u001b[0;34m\u001b[0m\u001b[0;34m\u001b[0m\u001b[0m\n\u001b[1;32m   1290\u001b[0m         \u001b[0;32mif\u001b[0m \u001b[0mself\u001b[0m\u001b[0;34m.\u001b[0m\u001b[0m_uses_dynamic_learning_phase\u001b[0m\u001b[0;34m(\u001b[0m\u001b[0;34m)\u001b[0m\u001b[0;34m:\u001b[0m\u001b[0;34m\u001b[0m\u001b[0;34m\u001b[0m\u001b[0m\n",
            "\u001b[0;32m/usr/local/lib/python3.6/dist-packages/keras/engine/training.py\u001b[0m in \u001b[0;36m_standardize_user_data\u001b[0;34m(self, x, y, sample_weight, class_weight, check_array_lengths, batch_size)\u001b[0m\n\u001b[1;32m    827\u001b[0m                                  \u001b[0;34m'a number of samples that can be '\u001b[0m\u001b[0;34m\u001b[0m\u001b[0;34m\u001b[0m\u001b[0m\n\u001b[1;32m    828\u001b[0m                                  \u001b[0;34m'divided by the batch size. Found: '\u001b[0m \u001b[0;34m+\u001b[0m\u001b[0;34m\u001b[0m\u001b[0;34m\u001b[0m\u001b[0m\n\u001b[0;32m--> 829\u001b[0;31m                                  str(x[0].shape[0]) + ' samples')\n\u001b[0m\u001b[1;32m    830\u001b[0m         \u001b[0;32mreturn\u001b[0m \u001b[0mx\u001b[0m\u001b[0;34m,\u001b[0m \u001b[0my\u001b[0m\u001b[0;34m,\u001b[0m \u001b[0msample_weights\u001b[0m\u001b[0;34m\u001b[0m\u001b[0;34m\u001b[0m\u001b[0m\n\u001b[1;32m    831\u001b[0m \u001b[0;34m\u001b[0m\u001b[0m\n",
            "\u001b[0;31mValueError\u001b[0m: In a stateful network, you should only pass inputs with a number of samples that can be divided by the batch size. Found: 560 samples"
          ]
        }
      ]
    },
    {
      "cell_type": "code",
      "metadata": {
        "id": "qpcFfq4g5H-D",
        "colab_type": "code",
        "outputId": "3e1b8fac-bbe4-43a4-db6a-7acdb89fc230",
        "colab": {
          "base_uri": "https://localhost:8080/",
          "height": 34
        }
      },
      "source": [
        "print(history.history.keys())\n"
      ],
      "execution_count": 0,
      "outputs": [
        {
          "output_type": "stream",
          "text": [
            "dict_keys(['val_loss', 'loss'])\n"
          ],
          "name": "stdout"
        }
      ]
    },
    {
      "cell_type": "code",
      "metadata": {
        "id": "MPYnrrId5LU_",
        "colab_type": "code",
        "outputId": "2ccc954c-c568-4e1c-df38-51cf2a8d6041",
        "colab": {
          "base_uri": "https://localhost:8080/",
          "height": 269
        }
      },
      "source": [
        "plt.plot(history.history['loss'])\n",
        "plt.plot(history.history['val_loss'])\n",
        "\n",
        "plt.show()"
      ],
      "execution_count": 0,
      "outputs": [
        {
          "output_type": "display_data",
          "data": {
            "image/png": "[encoded data removed]",
            "text/plain": [
              "<Figure size 432x288 with 1 Axes>"
            ]
          },
          "metadata": {
            "tags": []
          }
        }
      ]
    }
  ]
}